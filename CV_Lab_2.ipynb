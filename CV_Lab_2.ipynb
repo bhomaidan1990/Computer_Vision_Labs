{
  "nbformat": 4,
  "nbformat_minor": 0,
  "metadata": {
    "colab": {
      "name": "CV_Lab_2.ipynb",
      "provenance": [],
      "authorship_tag": "ABX9TyMIF73YTJW3BxaHJOCriFHC",
      "include_colab_link": true
    },
    "kernelspec": {
      "name": "python3",
      "display_name": "Python 3"
    }
  },
  "cells": [
    {
      "cell_type": "markdown",
      "metadata": {
        "id": "view-in-github",
        "colab_type": "text"
      },
      "source": [
        "<a href=\"https://colab.research.google.com/github/bhomaidan1990/Computer_Vision_Labs/blob/main/CV_Lab_2.ipynb\" target=\"_parent\"><img src=\"https://colab.research.google.com/assets/colab-badge.svg\" alt=\"Open In Colab\"/></a>"
      ]
    },
    {
      "cell_type": "markdown",
      "metadata": {
        "id": "kJeBAaDD8KtA"
      },
      "source": [
        "# Computer Vision Course"
      ]
    },
    {
      "cell_type": "markdown",
      "metadata": {
        "id": "93CyVeG8pU1o"
      },
      "source": [
        "## Lab (2)\n"
      ]
    },
    {
      "cell_type": "markdown",
      "metadata": {
        "id": "AZ3QNfbTpvO6"
      },
      "source": [
        ""
      ]
    },
    {
      "cell_type": "code",
      "metadata": {
        "id": "TxPbk2z-ps6S"
      },
      "source": [
        "##########################\n",
        "# @Authors:              #\n",
        "#     Belal Hmedan       #\n",
        "# &   Junyi ZHONG        #\n",
        "##########################\n",
        "\n",
        "#========================\n",
        "# Import Libraries\n",
        "#========================\n",
        "import os\n",
        "# import glob\n",
        "import re\n",
        "import numpy as np\n",
        "import matplotlib.pyplot as plt\n",
        "from matplotlib.patches import Ellipse\n",
        "import cv2"
      ],
      "execution_count": null,
      "outputs": []
    }
  ]
}