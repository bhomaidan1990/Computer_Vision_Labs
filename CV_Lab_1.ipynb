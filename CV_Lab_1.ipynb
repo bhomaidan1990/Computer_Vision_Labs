{
  "nbformat": 4,
  "nbformat_minor": 0,
  "metadata": {
    "kernelspec": {
      "display_name": "Python 3",
      "language": "python",
      "name": "python3"
    },
    "language_info": {
      "codemirror_mode": {
        "name": "ipython",
        "version": 3
      },
      "file_extension": ".py",
      "mimetype": "text/x-python",
      "name": "python",
      "nbconvert_exporter": "python",
      "pygments_lexer": "ipython3",
      "version": "3.8.5"
    },
    "colab": {
      "name": "CV_Lab_1.ipynb",
      "provenance": [],
      "private_outputs": true,
      "collapsed_sections": [],
      "include_colab_link": true
    }
  },
  "cells": [
    {
      "cell_type": "markdown",
      "metadata": {
        "id": "view-in-github",
        "colab_type": "text"
      },
      "source": [
        "<a href=\"https://colab.research.google.com/github/bhomaidan1990/Computer_Vision_Labs/blob/main/CV_Lab_1.ipynb\" target=\"_parent\"><img src=\"https://colab.research.google.com/assets/colab-badge.svg\" alt=\"Open In Colab\"/></a>"
      ]
    },
    {
      "cell_type": "markdown",
      "metadata": {
        "id": "kJeBAaDD8KtA"
      },
      "source": [
        "# Computer Vision Course"
      ]
    },
    {
      "cell_type": "markdown",
      "metadata": {
        "id": "93CyVeG8pU1o"
      },
      "source": [
        "## Lab (1)\n"
      ]
    },
    {
      "cell_type": "markdown",
      "metadata": {
        "id": "Gi6Xbs2I8KtC"
      },
      "source": [
        "### Read and parse the original image"
      ]
    },
    {
      "cell_type": "code",
      "metadata": {
        "id": "xQ5_P0Ol8KtE"
      },
      "source": [
        "#########################\n",
        "# @Author: Belal Hmedan #\n",
        "#########################\n",
        "\n",
        "#========================\n",
        "# Import Libraries\n",
        "#========================\n",
        "import os\n",
        "# import glob\n",
        "import re\n",
        "import numpy as np\n",
        "import matplotlib.pyplot as plt\n",
        "from matplotlib.patches import Ellipse\n",
        "import cv2\n",
        "\n",
        "#------------------------\n",
        "# Read Image\n",
        "#========================\n",
        "datasetPath = \"/media/desertghost/WD/Computer_vision/Lecture_1/Lab_1/Dataset/Datast/\"\n",
        "specialPath = \"2002/07/21/big/img_390.jpg\"\n",
        "imPath = os.path.join(datasetPath, specialPath) \n",
        "img = cv2.imread(imPath)\n",
        "img = cv2.cvtColor(img, cv2.COLOR_BGR2RGB)\n",
        "# print(img.shape)\n",
        "\n",
        "#------------------------\n",
        "# show Image\n",
        "#========================\n",
        "plt.figure(num='FDDB')\n",
        "\n",
        "# plt.subplot(221)\n",
        "plt.imshow(img)\n",
        "plt.title('Original')\n",
        "plt.axis('off')\n",
        "\n",
        "plt.show()"
      ],
      "execution_count": null,
      "outputs": []
    },
    {
      "cell_type": "markdown",
      "metadata": {
        "id": "04oFMX1l8KtQ"
      },
      "source": [
        "### Read the Annotaion"
      ]
    },
    {
      "cell_type": "code",
      "metadata": {
        "id": "-oQ4847m8KtS"
      },
      "source": [
        "#------------------------\n",
        "# define Path\n",
        "#========================\n",
        "foldsPath = \"/media/desertghost/WD/Computer_vision/Lecture_1/Lab_1/Dataset/FDDB-folds/\"\n",
        "foldsList  = (os.listdir(foldsPath))\n",
        "\n",
        "#------------------------\n",
        "# devide files\n",
        "#========================\n",
        "folds = foldsList[1::2] # Evens image names\n",
        "annot = foldsList[0::2] # Odds annotaions\n",
        "\n",
        "#------------------------\n",
        "# Find Corresponding Annotation Fold\n",
        "#========================\n",
        "# get the name without the extension\n",
        "imName = os.path.splitext(specialPath)[0]\n",
        "# this to find only the string which ends with ths pattern\n",
        "imName = imName + '$'\n",
        "# Fold Search Loop\n",
        "for idx, fold in enumerate(folds):\n",
        "    foldPath = os.path.join(foldsPath, fold)\n",
        "    txtFile = open(foldPath, \"r\")\n",
        "    for lin in txtFile:\n",
        "        if(re.findall(imName,lin) != []):\n",
        "            print('Fold: ',fold,'\\nImage Name: ', imName[:-1], lin)\n",
        "            # Annotaion Fold\n",
        "            annot_path = os.path.join(foldsPath,annot[idx])\n",
        "            # print(annot_path)\n",
        "    # Close the txt file\n",
        "    txtFile.close()\n",
        "    \n",
        "# Initialization\n",
        "Annotaions = []\n",
        "AnnotData = []\n",
        "linIndex = -2\n",
        "numFaces = 0\n",
        "\n",
        "# Annot Search Loop\n",
        "AnnotFile = open(annot_path, \"r\")\n",
        "for idx, lin in enumerate(AnnotFile):\n",
        "    if(re.findall(imName,lin) != []):\n",
        "        linIndex = idx\n",
        "    if (idx == (linIndex + 1) ):\n",
        "        numFaces = int(lin)\n",
        "        print(\"number of faces is: \", numFaces)\n",
        "    if linIndex != -2:\n",
        "        if idx in range(linIndex + 2, linIndex + 2 + numFaces):\n",
        "            Annotaions.append(lin)\n",
        "# print(Annotaions)\n",
        "for Annotaion in Annotaions:\n",
        "    AnnotData.append(list(filter(None, list(re.split(\"\\s\", Annotaion)))))\n",
        "AnnotData = np.array(AnnotData, dtype=float )\n",
        "AnnotData = np.floor(AnnotData[:,:-1]).astype(int)\n",
        "print(' First Face: \\n   max_radius | min_radius | angle | center_x | center_y \\n -------------------------------------------------------\\n', AnnotData[0])"
      ],
      "execution_count": null,
      "outputs": []
    },
    {
      "cell_type": "markdown",
      "metadata": {
        "id": "9LqrUdeW8KtY"
      },
      "source": [
        "### Parse the image with the annotaion"
      ]
    },
    {
      "cell_type": "code",
      "metadata": {
        "id": "FsvcKoMA8Kta"
      },
      "source": [
        "#------------------------\n",
        "# Elliptic Annotation Drawing Function\n",
        "#========================\n",
        "def Elliptic(X, Y, xc, yc, Rmax, Rmin, theta):\n",
        "    '''\n",
        "    Function to Draw one Red Ellipses on Black Background\n",
        "    Parameters:\n",
        "    @Param: X : orginal image height.\n",
        "    @Param: Y : orginal image width.\n",
        "    @Param: xc, yc : Center coordinates of the Ellipse.\n",
        "    @Param: Rmax, Rmin : max, and min Radius of the Ellipse.\n",
        "    @Param: theta : Ellipse Rotation Angle \n",
        "    '''\n",
        "    center_coordinates = (xc, yc) \n",
        "    \n",
        "    axesLength = (Rmin, Rmax) \n",
        "    \n",
        "    angle = theta\n",
        "    \n",
        "    startAngle = 0\n",
        "    \n",
        "    endAngle = 360\n",
        "    \n",
        "    # Red color in  RGB\n",
        "    color = (255, 0, 0) \n",
        "    \n",
        "    # Line thickness of 3 px \n",
        "    thickness = 3\n",
        "    \n",
        "    # Draw Black image\n",
        "    image = np.zeros((X, Y, 3))\n",
        "    # Using cv2.ellipse() method \n",
        "    # Draw a ellipse with red line borders of thickness of 5 px \n",
        "    result = cv2.ellipse(image, center_coordinates, axesLength, \n",
        "            angle, startAngle, endAngle, color, thickness) \n",
        "    \n",
        "    return result \n",
        "#------------------------------------------------------------------\n",
        "#------------------------\n",
        "# Draw Anottations\n",
        "#========================\n",
        "Ellip = np.zeros_like(img)\n",
        "\n",
        "for row in range(AnnotData.shape[0]):\n",
        "    Ellip = np.maximum(Ellip, Elliptic(img.shape[0], img.shape[1], AnnotData[row, 3].astype(int),\n",
        "                         AnnotData[row, 4].astype(int), AnnotData[row, 0].astype(int), AnnotData[row, 1].astype(int), AnnotData[row, 2].astype(int)))\n",
        "print(img.max(), Ellip.max())\n",
        "res = np.maximum(img, Ellip.astype(np.uint))\n",
        "#------------------------\n",
        "# show Result\n",
        "#========================\n",
        "plt.figure(num='FDDB2')\n",
        "\n",
        "plt.subplot(121)\n",
        "plt.imshow(img)\n",
        "plt.title('Original')\n",
        "plt.axis('off')\n",
        "\n",
        "plt.subplot(122)\n",
        "plt.imshow(res)\n",
        "plt.title('Annotated')\n",
        "plt.axis('off')\n",
        "\n",
        "plt.show()"
      ],
      "execution_count": null,
      "outputs": []
    }
  ]
}